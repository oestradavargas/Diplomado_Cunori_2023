{
 "cells": [
  {
   "cell_type": "markdown",
   "metadata": {},
   "source": [
    "# EJERCICIO DE PROCESAMIENTO Y MACHINE LEARNING\n",
    "### USAC - CUNORI"
   ]
  },
  {
   "cell_type": "code",
   "execution_count": null,
   "metadata": {},
   "outputs": [],
   "source": [
    "# Cargar librerias necesarias\n",
    "import pandas as pd\n",
    "import matplotlib.pyplot as plt\n",
    "import seaborn as sns\n",
    "from sklearn.model_selection import train_test_split\n",
    "from sklearn.ensemble import RandomForestRegressor\n",
    "from sklearn.metrics import mean_squared_error\n",
    "from sklearn.inspection import PartialDependenceDisplay"
   ]
  },
  {
   "cell_type": "code",
   "execution_count": null,
   "metadata": {},
   "outputs": [],
   "source": [
    "# Cargar base de datos\n",
    "file = 'https://raw.githubusercontent.com/oestradavargas/Diplomado_Cunori_2023/main/BD_frijol.csv'\n",
    "df = pd.read_csv(file, encoding = 'ISO-8859-1')\n",
    "df.head()"
   ]
  },
  {
   "cell_type": "code",
   "execution_count": null,
   "metadata": {},
   "outputs": [],
   "source": [
    "df.shape"
   ]
  },
  {
   "cell_type": "markdown",
   "metadata": {},
   "source": [
    "### Procesamiento"
   ]
  },
  {
   "cell_type": "code",
   "execution_count": null,
   "metadata": {},
   "outputs": [],
   "source": [
    "# Eliminar columnas innecesarias\n",
    "df = df.drop('ID_Evento', axis = 1)"
   ]
  },
  {
   "cell_type": "code",
   "execution_count": null,
   "metadata": {},
   "outputs": [],
   "source": [
    "# Revisar el tipo de variable\n",
    "df.info()"
   ]
  },
  {
   "cell_type": "code",
   "execution_count": null,
   "metadata": {},
   "outputs": [],
   "source": [
    "# Conteo de datos faltantes\n",
    "df.isna().sum()"
   ]
  },
  {
   "cell_type": "code",
   "execution_count": null,
   "metadata": {},
   "outputs": [],
   "source": [
    "# Eliminar registros cque contienen datos faltantes\n",
    "df = df.dropna()"
   ]
  },
  {
   "cell_type": "code",
   "execution_count": null,
   "metadata": {},
   "outputs": [],
   "source": [
    "# Verificar los datos faltantes\n",
    "df.isna().sum()"
   ]
  },
  {
   "cell_type": "code",
   "execution_count": null,
   "metadata": {},
   "outputs": [],
   "source": [
    "# Descripcion estadistica (variables cuantitativas)\n",
    "df.describe()"
   ]
  },
  {
   "cell_type": "code",
   "execution_count": null,
   "metadata": {},
   "outputs": [],
   "source": [
    "# Transformacion de variables\n",
    "df['RDT'] = df['RDT'] / 1000"
   ]
  },
  {
   "cell_type": "markdown",
   "metadata": {},
   "source": [
    "### Análisis gráfico"
   ]
  },
  {
   "cell_type": "code",
   "execution_count": null,
   "metadata": {},
   "outputs": [],
   "source": [
    "# Gráfico de cajas y bigotes o boxplot\n",
    "sns.boxplot(data = df, y = 'Pendiente')\n",
    "plt.title('PENDIENTE (Boxplot)')\n",
    "plt.ylabel('Pendiente (%)')\n",
    "plt.tight_layout()\n",
    "plt.show()"
   ]
  },
  {
   "cell_type": "code",
   "execution_count": null,
   "metadata": {},
   "outputs": [],
   "source": [
    "# Gráfico de barras para variables categóricas\n",
    "sns.countplot(data = df, x= 'Estructura')\n",
    "plt.title('ESTRUCTURA DEL SUELO (Gráfico de barras)')\n",
    "plt.xlabel('Estructura')\n",
    "plt.ylabel('Frecuencia')\n",
    "plt.tight_layout()\n",
    "plt.show()"
   ]
  },
  {
   "cell_type": "code",
   "execution_count": null,
   "metadata": {},
   "outputs": [],
   "source": [
    "# Histograma\n",
    "sns.histplot(data = df, x= 'RDT', kde=True)\n",
    "plt.title('DISTRIBUCION DEL RENDIMIENTO (Histograma)')\n",
    "plt.xlabel('Rendimiento ton/ha)')\n",
    "plt.ylabel('Frecuencia')\n",
    "plt.tight_layout()\n",
    "plt.show()"
   ]
  },
  {
   "cell_type": "code",
   "execution_count": null,
   "metadata": {},
   "outputs": [],
   "source": [
    "# Gráfico de dispersión\n",
    "sns.scatterplot(data = df, x = 'TotN', y= 'RDT')\n",
    "plt.title('CANTIDAD DE NITROGENO vs RENDIMIENTO (Dispersión)')\n",
    "plt.xlabel('N (kg/ha)')\n",
    "plt.ylabel('Rendimiento (ton/ha)')\n",
    "plt.tight_layout()\n",
    "plt.show()"
   ]
  },
  {
   "cell_type": "markdown",
   "metadata": {},
   "source": [
    "### Análisis de Machine Learning"
   ]
  },
  {
   "cell_type": "code",
   "execution_count": null,
   "metadata": {},
   "outputs": [],
   "source": [
    "# Codificación de variables categóricas\n",
    "df = pd.get_dummies(df, drop_first=True, dtype=int)"
   ]
  },
  {
   "cell_type": "code",
   "execution_count": null,
   "metadata": {},
   "outputs": [],
   "source": [
    "df.head()"
   ]
  },
  {
   "cell_type": "code",
   "execution_count": null,
   "metadata": {},
   "outputs": [],
   "source": [
    "# Separación de datos en entrenamiento y prueba (70% y 30%, respectivamente)\n",
    "X = df.drop('RDT', axis=1)\n",
    "y = df['RDT']\n",
    "X_train, X_test, y_train, y_test = train_test_split(X, y, test_size=0.3, random_state = 1)"
   ]
  },
  {
   "cell_type": "code",
   "execution_count": null,
   "metadata": {},
   "outputs": [],
   "source": [
    "# Creación del modelo\n",
    "modelo = RandomForestRegressor(random_state=1, n_jobs=-1)\n",
    "modelo.fit(X_train, y_train)"
   ]
  },
  {
   "cell_type": "code",
   "execution_count": null,
   "metadata": {},
   "outputs": [],
   "source": [
    "# Evaluación del desempeño del modelo\n",
    "predicciones = modelo.predict(X_test)\n",
    "train_score = modelo.score(X_train, y_train) * 100\n",
    "test_score = modelo.score(X_test, y_test) * 100\n",
    "rmse = mean_squared_error(y_test, predicciones, squared=False)\n",
    "\n",
    "print('\\nDesempeño del modelo:')\n",
    "print(f'\\nTrain score: {train_score:.2f}%')\n",
    "print(f'Test score: {test_score:.2f}%')\n",
    "print(f'RMSE: {rmse:.2f} ton\\n')"
   ]
  },
  {
   "cell_type": "code",
   "execution_count": null,
   "metadata": {},
   "outputs": [],
   "source": [
    "# Relevancia de características\n",
    "nombres_var = modelo.feature_names_in_\n",
    "data_model = pd.concat([pd.Series(nombres_var), pd.Series(modelo.feature_importances_ )], axis=1)\n",
    "data_model.columns = ['Feature', 'Values']\n",
    "data_model = data_model.sort_values('Values', ascending=False)\n",
    "data_model = data_model.iloc[0:5]\n",
    "\n",
    "# Grafico\n",
    "sns.barplot(data=data_model, x='Feature', y='Values', color = '#1f77b4')\n",
    "plt.title('Relevancia de Variables (Random Forest: ' + str(round(test_score, 2)) + '%)')\n",
    "plt.xticks(rotation=90)\n",
    "plt.xlabel('Variable')\n",
    "plt.ylabel('Relevancia media')\n",
    "plt.tight_layout()\n",
    "plt.show()"
   ]
  },
  {
   "cell_type": "code",
   "execution_count": null,
   "metadata": {},
   "outputs": [],
   "source": [
    "# Dependencias parciales\n",
    "for i in data_model['Feature']:\n",
    "    PartialDependenceDisplay.from_estimator(modelo, X_train, [i])\n",
    "    plt.title(i + ' (Dependencia parcial)')\n",
    "    plt.xlabel(i)\n",
    "    plt.ylabel('Dependencia parcial')\n",
    "    plt.tight_layout()\n",
    "    plt.show()\n",
    "    plt.close()"
   ]
  }
 ],
 "metadata": {
  "kernelspec": {
   "display_name": "Python 3",
   "language": "python",
   "name": "python3"
  },
  "language_info": {
   "codemirror_mode": {
    "name": "ipython",
    "version": 3
   },
   "file_extension": ".py",
   "mimetype": "text/x-python",
   "name": "python",
   "nbconvert_exporter": "python",
   "pygments_lexer": "ipython3",
   "version": "3.11.4"
  },
  "orig_nbformat": 4
 },
 "nbformat": 4,
 "nbformat_minor": 2
}
